{
  "nbformat": 4,
  "nbformat_minor": 0,
  "metadata": {
    "colab": {
      "name": "PZ_11.ipynb",
      "provenance": [],
      "authorship_tag": "ABX9TyOQXv/e6n3OOm3tzS4drbDI",
      "include_colab_link": true
    },
    "kernelspec": {
      "name": "python3",
      "display_name": "Python 3"
    },
    "language_info": {
      "name": "python"
    }
  },
  "cells": [
    {
      "cell_type": "markdown",
      "metadata": {
        "id": "view-in-github",
        "colab_type": "text"
      },
      "source": [
        "<a href=\"https://colab.research.google.com/github/Shn4yder/project1sem_komarkova/blob/master/PZ_11.ipynb\" target=\"_parent\"><img src=\"https://colab.research.google.com/assets/colab-badge.svg\" alt=\"Open In Colab\"/></a>"
      ]
    },
    {
      "cell_type": "markdown",
      "source": [
        "### **Практическая работа №3**\n",
        "Дано два целых числа А и В. Проверить истинность высказывания: \" Хотя бы одно из чисел А и В нечетное \".\n",
        "\n"
      ],
      "metadata": {
        "id": "ePe6Jz0RVAxT"
      }
    },
    {
      "cell_type": "code",
      "source": [
        "a = input('Введите число A: ')\n",
        "b = input('Введите число B: ')\n",
        "\n",
        "\n",
        "while type(a) != int:                      # обработка исключений для числа А\n",
        "    try:\n",
        "         a = int(a)\n",
        "    except ValueError:\n",
        "        print('Вы ввели нецелое число А')\n",
        "        a = input('Введите число A: ')\n",
        "\n",
        "\n",
        "while type(b) != int:                      # обработка исключений для числа В\n",
        "    try:\n",
        "         b = int(b)\n",
        "    except ValueError:\n",
        "        print('Вы ввели нецелое число В')\n",
        "        a = input('Введите число B: ')\n",
        "\n",
        "\n",
        "if (a % 2 == 1) or (b % 2 == 1):\n",
        "    print('Данное высказывание истинно')\n",
        "else:\n",
        "    print('Данное высказывание неверно')"
      ],
      "metadata": {
        "colab": {
          "base_uri": "https://localhost:8080/"
        },
        "id": "NsGcEPdkVmzH",
        "outputId": "79034ba1-a89e-4381-8f3e-71e3c4113629"
      },
      "execution_count": 1,
      "outputs": [
        {
          "output_type": "stream",
          "name": "stdout",
          "text": [
            "Введите число A: 546544\n",
            "Введите число B: 88774\n",
            "Данное высказывание неверно\n"
          ]
        }
      ]
    },
    {
      "cell_type": "markdown",
      "source": [
        "### **Практическая работа № 4**\n",
        "Дано целое число  N (>0). Найти сумму 1 + 1/2 + 1/3 + ... + 1/N."
      ],
      "metadata": {
        "id": "A_OdW_tuV9z2"
      }
    },
    {
      "cell_type": "code",
      "source": [
        "n = input('Введите число N:  ')\n",
        "\n",
        "\n",
        "while type(n) != int:           # обработка исключений для n \n",
        "    try:\n",
        "         n = int(n)\n",
        "    except ValueError:\n",
        "        print('Вы ввели нецелое число N')\n",
        "        n = input('Введите число N: ')\n",
        "\n",
        "\n",
        "if n > 0:\n",
        "    summa = 0\n",
        "    while n > 0:                 # подсчет суммы 1 + 1/2 + 1/3 + ... + 1/N\n",
        "        summa = summa + 1/n\n",
        "        n = n - 1\n",
        "    print('Сумма равна:', summa)\n",
        "else:\n",
        "    print('Число N не должно быть меньше 0')\n"
      ],
      "metadata": {
        "colab": {
          "base_uri": "https://localhost:8080/"
        },
        "id": "YJJIg8S9W3BC",
        "outputId": "225ee9bf-74f2-41fa-fa2c-70e711abe69e"
      },
      "execution_count": 2,
      "outputs": [
        {
          "output_type": "stream",
          "name": "stdout",
          "text": [
            "Введите число N:  2\n",
            "Сумма равна: 1.5\n"
          ]
        }
      ]
    },
    {
      "cell_type": "markdown",
      "source": [
        "### **Практическая работа №5**\n",
        "Составить функцию, генерирующую четырехзначное число и определяющую, есть ли в числе одинаковые числа."
      ],
      "metadata": {
        "id": "P9rl_GahYyFw"
      }
    },
    {
      "cell_type": "code",
      "source": [
        "def generator(a, b, c, d):                     6# реализация функции-генератора \n",
        "    number = a * 1000 + b * 100 + c * 10 + d\n",
        "    if (a == b) or (a == c) or (a == d ) or (b == c) or (b == d) or (c == d):\n",
        "        ravenstvo = 'В Вашем числе есть одинаковые цифры'\n",
        "    else:\n",
        "        ravenstvo = 'В Вашем числе нет одинаковых цифр'\n",
        "    print('Ваше число:  ', number)\n",
        "    print(ravenstvo)\n",
        "\n",
        "\n",
        "num1 = int(input('Введите первую цифру  '))\n",
        "num2 = int(input('Введите вторую цифру  '))\n",
        "num3 = int(input('Введите третью цифру  '))\n",
        "num4 = int(input('Введите четвертую цифру  '))\n",
        "\n",
        "\n",
        "generator(num1, num2, num3, num4)   # использование функции от введенных данных\n"
      ],
      "metadata": {
        "colab": {
          "base_uri": "https://localhost:8080/"
        },
        "id": "sjixugx_ZTJX",
        "outputId": "cdc58be6-a358-4acc-a024-aca56737bf00"
      },
      "execution_count": 3,
      "outputs": [
        {
          "output_type": "stream",
          "name": "stdout",
          "text": [
            "Введите первую цифру  8\n",
            "Введите вторую цифру  0\n",
            "Введите третью цифру  8\n",
            "Введите четвертую цифру  9\n",
            "Ваше число:   8089\n",
            "В Вашем числе есть одинаковые цифры\n"
          ]
        }
      ]
    }
  ]
}